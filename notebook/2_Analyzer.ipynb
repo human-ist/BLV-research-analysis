{
 "cells": [
  {
   "attachments": {},
   "cell_type": "markdown",
   "metadata": {
    "id": "Zo-yPtZT12be"
   },
   "source": [
    "# Analysis"
   ]
  },
  {
   "attachments": {},
   "cell_type": "markdown",
   "metadata": {
    "id": "l0Fmr5wiMTnG"
   },
   "source": [
    "# Part 1: Descriptive Statistics"
   ]
  },
  {
   "cell_type": "code",
   "execution_count": 11,
   "metadata": {},
   "outputs": [
    {
     "name": "stdout",
     "output_type": "stream",
     "text": [
      "/home/jovyan/work\n"
     ]
    }
   ],
   "source": [
    "import os\n",
    "\n",
    "ROOT_PATH = os.getcwd()\n",
    "print(ROOT_PATH)\n",
    "\n",
    "# Public paths\n",
    "SPONSOR_DOCTYPE_PATH = os.path.join(ROOT_PATH, 'data/results/desc_stats/sponsor_doctype.csv')\n",
    "VENUE_PATH = os.path.join(ROOT_PATH, 'data/results/desc_stats/venue.csv')\n",
    "AUTHORS_MULTI_SPONS_CONTRIB_PATH = os.path.join(ROOT_PATH, 'data/results/desc_stats/authors_contrib_sponsors.csv')\n",
    "\n",
    "CODING_PATH = os.path.join(ROOT_PATH, 'data/results/analysis/in_depth/coding.xlsx')\n",
    "\n",
    "# Private (upon request for reproductibility)\n",
    "PRIV_DATASET_PATH = os.path.join(ROOT_PATH, 'data/private/dataset_N880.xlsx')\n",
    "#print(PRIV_DATASET_PATH)"
   ]
  },
  {
   "cell_type": "code",
   "execution_count": 2,
   "metadata": {
    "id": "O0o3RCU3kh-G"
   },
   "outputs": [],
   "source": [
    "from dataset_analysis.analyzer_utils import count_with_percentage\n",
    "import pandas as pd\n",
    "\n",
    "pd.set_option('display.max_rows', 100)\n",
    "pd.set_option('display.max_columns', 50)\n",
    "pd.set_option('display.width', 500)"
   ]
  },
  {
   "attachments": {},
   "cell_type": "markdown",
   "metadata": {
    "id": "8c5J-3nR165s"
   },
   "source": [
    "## Sponsor and Document Type"
   ]
  },
  {
   "cell_type": "code",
   "execution_count": 24,
   "metadata": {},
   "outputs": [
    {
     "data": {
      "text/html": [
       "<div>\n",
       "<style scoped>\n",
       "    .dataframe tbody tr th:only-of-type {\n",
       "        vertical-align: middle;\n",
       "    }\n",
       "\n",
       "    .dataframe tbody tr th {\n",
       "        vertical-align: top;\n",
       "    }\n",
       "\n",
       "    .dataframe thead th {\n",
       "        text-align: right;\n",
       "    }\n",
       "</style>\n",
       "<table border=\"1\" class=\"dataframe\">\n",
       "  <thead>\n",
       "    <tr style=\"text-align: right;\">\n",
       "      <th></th>\n",
       "      <th>Sponsor (clean)</th>\n",
       "      <th>Document Type</th>\n",
       "      <th>DOI</th>\n",
       "      <th>Perc.</th>\n",
       "      <th>DOI.1</th>\n",
       "      <th>Perc..1</th>\n",
       "    </tr>\n",
       "  </thead>\n",
       "  <tbody>\n",
       "    <tr>\n",
       "      <th>0</th>\n",
       "      <td>ACM</td>\n",
       "      <td>Article</td>\n",
       "      <td>71</td>\n",
       "      <td>8.1</td>\n",
       "      <td>NaN</td>\n",
       "      <td>NaN</td>\n",
       "    </tr>\n",
       "    <tr>\n",
       "      <th>1</th>\n",
       "      <td>ACM</td>\n",
       "      <td>Conference Paper</td>\n",
       "      <td>424</td>\n",
       "      <td>48.2</td>\n",
       "      <td>56.0</td>\n",
       "      <td>56.0</td>\n",
       "    </tr>\n",
       "    <tr>\n",
       "      <th>2</th>\n",
       "      <td>ACM/IEEE</td>\n",
       "      <td>Conference Paper</td>\n",
       "      <td>6</td>\n",
       "      <td>0.7</td>\n",
       "      <td>3.0</td>\n",
       "      <td>3.0</td>\n",
       "    </tr>\n",
       "    <tr>\n",
       "      <th>3</th>\n",
       "      <td>IEEE</td>\n",
       "      <td>Article</td>\n",
       "      <td>133</td>\n",
       "      <td>15.1</td>\n",
       "      <td>30.0</td>\n",
       "      <td>30.0</td>\n",
       "    </tr>\n",
       "    <tr>\n",
       "      <th>4</th>\n",
       "      <td>IEEE</td>\n",
       "      <td>Conference Paper</td>\n",
       "      <td>246</td>\n",
       "      <td>28.0</td>\n",
       "      <td>11.0</td>\n",
       "      <td>11.0</td>\n",
       "    </tr>\n",
       "  </tbody>\n",
       "</table>\n",
       "</div>"
      ],
      "text/plain": [
       "  Sponsor (clean)     Document Type  DOI  Perc.  DOI.1  Perc..1\n",
       "0             ACM           Article   71    8.1    NaN      NaN\n",
       "1             ACM  Conference Paper  424   48.2   56.0     56.0\n",
       "2        ACM/IEEE  Conference Paper    6    0.7    3.0      3.0\n",
       "3            IEEE           Article  133   15.1   30.0     30.0\n",
       "4            IEEE  Conference Paper  246   28.0   11.0     11.0"
      ]
     },
     "execution_count": 24,
     "metadata": {},
     "output_type": "execute_result"
    }
   ],
   "source": [
    "sponsor_docttype_df = pd.read_csv(SPONSOR_DOCTYPE_PATH)\n",
    "sponsor_docttype_df"
   ]
  },
  {
   "cell_type": "markdown",
   "metadata": {},
   "source": [
    "### Private"
   ]
  },
  {
   "cell_type": "code",
   "execution_count": 25,
   "metadata": {
    "colab": {
     "base_uri": "https://localhost:8080/",
     "height": 143
    },
    "id": "IKoxgnphll7m",
    "outputId": "75c3b80f-ec7f-44f8-fd07-0e10e0b18f5e"
   },
   "outputs": [],
   "source": [
    "df = pd.read_excel(PRIV_DATASET_PATH)\n",
    "\n",
    "# Full set\n",
    "df_sponsor = count_with_percentage(df, col_name='Sponsor (clean)')\n",
    "df_doc_type = count_with_percentage(df, col_name='Document Type')\n",
    "\n",
    "df_spons_doc_type = df[['DOI', 'Sponsor (clean)', 'Document Type']].copy()\n",
    "df_spons_doc_type_groups = df_spons_doc_type.pivot_table(values='DOI',\n",
    "                                                         index=['Sponsor (clean)', 'Document Type'],\n",
    "                                                         aggfunc='count')\n",
    "df_spons_doc_type_groups[\"Perc.\"] = round(df_spons_doc_type_groups[\"DOI\"]/df_spons_doc_type_groups[\"DOI\"].sum()*100, 1)\n",
    "# df_spons_doc_type_groups"
   ]
  },
  {
   "cell_type": "code",
   "execution_count": 26,
   "metadata": {
    "colab": {
     "base_uri": "https://localhost:8080/",
     "height": 206
    },
    "id": "rqy95_OMeKd1",
    "outputId": "1242dbef-8cb0-4d13-cddc-e57537e60a0a"
   },
   "outputs": [],
   "source": [
    "# Top 100\n",
    "df_spons_doc_type_top100 = df[['DOI', 'Sponsor (clean)', 'Document Type']].copy()\n",
    "df_spons_doc_type_top100 = df_spons_doc_type_top100[df['Coded'] == 1]\n",
    "df_spons_doc_type_top100_groups = df_spons_doc_type_top100.pivot_table(values='DOI',\n",
    "                                                         index=['Sponsor (clean)', 'Document Type'],\n",
    "                                                         aggfunc='count')\n",
    "df_spons_doc_type_top100_groups[\"Perc.\"] = round(df_spons_doc_type_top100_groups[\"DOI\"]/df_spons_doc_type_top100_groups[\"DOI\"].sum()*100, 1)\n",
    "# df_spons_doc_type_top100_groups"
   ]
  },
  {
   "cell_type": "code",
   "execution_count": 27,
   "metadata": {
    "colab": {
     "base_uri": "https://localhost:8080/",
     "height": 237
    },
    "id": "wGOordkBfA-U",
    "outputId": "0edc1384-3033-4986-b367-f159e9982fdb"
   },
   "outputs": [
    {
     "data": {
      "text/html": [
       "<div>\n",
       "<style scoped>\n",
       "    .dataframe tbody tr th:only-of-type {\n",
       "        vertical-align: middle;\n",
       "    }\n",
       "\n",
       "    .dataframe tbody tr th {\n",
       "        vertical-align: top;\n",
       "    }\n",
       "\n",
       "    .dataframe thead th {\n",
       "        text-align: right;\n",
       "    }\n",
       "</style>\n",
       "<table border=\"1\" class=\"dataframe\">\n",
       "  <thead>\n",
       "    <tr style=\"text-align: right;\">\n",
       "      <th></th>\n",
       "      <th></th>\n",
       "      <th>DOI</th>\n",
       "      <th>Perc.</th>\n",
       "      <th>DOI</th>\n",
       "      <th>Perc.</th>\n",
       "    </tr>\n",
       "    <tr>\n",
       "      <th>Sponsor (clean)</th>\n",
       "      <th>Document Type</th>\n",
       "      <th></th>\n",
       "      <th></th>\n",
       "      <th></th>\n",
       "      <th></th>\n",
       "    </tr>\n",
       "  </thead>\n",
       "  <tbody>\n",
       "    <tr>\n",
       "      <th rowspan=\"2\" valign=\"top\">ACM</th>\n",
       "      <th>Article</th>\n",
       "      <td>71</td>\n",
       "      <td>8.1</td>\n",
       "      <td>NaN</td>\n",
       "      <td>NaN</td>\n",
       "    </tr>\n",
       "    <tr>\n",
       "      <th>Conference Paper</th>\n",
       "      <td>424</td>\n",
       "      <td>48.2</td>\n",
       "      <td>56.0</td>\n",
       "      <td>56.0</td>\n",
       "    </tr>\n",
       "    <tr>\n",
       "      <th>ACM/IEEE</th>\n",
       "      <th>Conference Paper</th>\n",
       "      <td>6</td>\n",
       "      <td>0.7</td>\n",
       "      <td>3.0</td>\n",
       "      <td>3.0</td>\n",
       "    </tr>\n",
       "    <tr>\n",
       "      <th rowspan=\"2\" valign=\"top\">IEEE</th>\n",
       "      <th>Article</th>\n",
       "      <td>133</td>\n",
       "      <td>15.1</td>\n",
       "      <td>30.0</td>\n",
       "      <td>30.0</td>\n",
       "    </tr>\n",
       "    <tr>\n",
       "      <th>Conference Paper</th>\n",
       "      <td>246</td>\n",
       "      <td>28.0</td>\n",
       "      <td>11.0</td>\n",
       "      <td>11.0</td>\n",
       "    </tr>\n",
       "  </tbody>\n",
       "</table>\n",
       "</div>"
      ],
      "text/plain": [
       "                                  DOI  Perc.   DOI  Perc.\n",
       "Sponsor (clean) Document Type                            \n",
       "ACM             Article            71    8.1   NaN    NaN\n",
       "                Conference Paper  424   48.2  56.0   56.0\n",
       "ACM/IEEE        Conference Paper    6    0.7   3.0    3.0\n",
       "IEEE            Article           133   15.1  30.0   30.0\n",
       "                Conference Paper  246   28.0  11.0   11.0"
      ]
     },
     "execution_count": 27,
     "metadata": {},
     "output_type": "execute_result"
    }
   ],
   "source": [
    "# Merge both sets\n",
    "df_spons_doc_type_all_groups = pd.concat([df_spons_doc_type_groups, df_spons_doc_type_top100_groups], axis = 1)\n",
    "df_spons_doc_type_all_groups"
   ]
  },
  {
   "attachments": {},
   "cell_type": "markdown",
   "metadata": {
    "id": "2W3MKO8j2DrT"
   },
   "source": [
    "## Main Venues"
   ]
  },
  {
   "cell_type": "code",
   "execution_count": 53,
   "metadata": {},
   "outputs": [
    {
     "data": {
      "text/html": [
       "<div>\n",
       "<style scoped>\n",
       "    .dataframe tbody tr th:only-of-type {\n",
       "        vertical-align: middle;\n",
       "    }\n",
       "\n",
       "    .dataframe tbody tr th {\n",
       "        vertical-align: top;\n",
       "    }\n",
       "\n",
       "    .dataframe thead th {\n",
       "        text-align: right;\n",
       "    }\n",
       "</style>\n",
       "<table border=\"1\" class=\"dataframe\">\n",
       "  <thead>\n",
       "    <tr style=\"text-align: right;\">\n",
       "      <th></th>\n",
       "      <th>Venue (sponsor)</th>\n",
       "      <th>Nb</th>\n",
       "      <th>Perc.</th>\n",
       "    </tr>\n",
       "  </thead>\n",
       "  <tbody>\n",
       "    <tr>\n",
       "      <th>0</th>\n",
       "      <td>ACM CHI</td>\n",
       "      <td>156</td>\n",
       "      <td>17.7</td>\n",
       "    </tr>\n",
       "    <tr>\n",
       "      <th>1</th>\n",
       "      <td>ACM ASSETS</td>\n",
       "      <td>141</td>\n",
       "      <td>16.0</td>\n",
       "    </tr>\n",
       "    <tr>\n",
       "      <th>2</th>\n",
       "      <td>ACM TACCESS</td>\n",
       "      <td>39</td>\n",
       "      <td>4.4</td>\n",
       "    </tr>\n",
       "    <tr>\n",
       "      <th>3</th>\n",
       "      <td>IEEE Access</td>\n",
       "      <td>35</td>\n",
       "      <td>4.0</td>\n",
       "    </tr>\n",
       "    <tr>\n",
       "      <th>4</th>\n",
       "      <td>IEEE EMBC</td>\n",
       "      <td>16</td>\n",
       "      <td>1.8</td>\n",
       "    </tr>\n",
       "    <tr>\n",
       "      <th>...</th>\n",
       "      <td>...</td>\n",
       "      <td>...</td>\n",
       "      <td>...</td>\n",
       "    </tr>\n",
       "    <tr>\n",
       "      <th>236</th>\n",
       "      <td>IEEE ICCCS</td>\n",
       "      <td>1</td>\n",
       "      <td>0.1</td>\n",
       "    </tr>\n",
       "    <tr>\n",
       "      <th>237</th>\n",
       "      <td>IEEE ICCE-Taiwan</td>\n",
       "      <td>1</td>\n",
       "      <td>0.1</td>\n",
       "    </tr>\n",
       "    <tr>\n",
       "      <th>238</th>\n",
       "      <td>IEEE ICCES</td>\n",
       "      <td>1</td>\n",
       "      <td>0.1</td>\n",
       "    </tr>\n",
       "    <tr>\n",
       "      <th>239</th>\n",
       "      <td>IEEE ICCPCT</td>\n",
       "      <td>1</td>\n",
       "      <td>0.1</td>\n",
       "    </tr>\n",
       "    <tr>\n",
       "      <th>240</th>\n",
       "      <td>IEEE WOCC</td>\n",
       "      <td>1</td>\n",
       "      <td>0.1</td>\n",
       "    </tr>\n",
       "  </tbody>\n",
       "</table>\n",
       "<p>241 rows × 3 columns</p>\n",
       "</div>"
      ],
      "text/plain": [
       "      Venue (sponsor)   Nb  Perc.\n",
       "0             ACM CHI  156   17.7\n",
       "1          ACM ASSETS  141   16.0\n",
       "2         ACM TACCESS   39    4.4\n",
       "3         IEEE Access   35    4.0\n",
       "4           IEEE EMBC   16    1.8\n",
       "..                ...  ...    ...\n",
       "236        IEEE ICCCS    1    0.1\n",
       "237  IEEE ICCE-Taiwan    1    0.1\n",
       "238        IEEE ICCES    1    0.1\n",
       "239       IEEE ICCPCT    1    0.1\n",
       "240         IEEE WOCC    1    0.1\n",
       "\n",
       "[241 rows x 3 columns]"
      ]
     },
     "execution_count": 53,
     "metadata": {},
     "output_type": "execute_result"
    }
   ],
   "source": [
    "venue_df = pd.read_csv(VENUE_PATH)\n",
    "venue_df"
   ]
  },
  {
   "cell_type": "markdown",
   "metadata": {},
   "source": [
    "### Private"
   ]
  },
  {
   "cell_type": "code",
   "execution_count": 33,
   "metadata": {},
   "outputs": [
    {
     "data": {
      "text/plain": [
       "240"
      ]
     },
     "execution_count": 33,
     "metadata": {},
     "output_type": "execute_result"
    }
   ],
   "source": [
    "df['Venue (clean)'].nunique()"
   ]
  },
  {
   "cell_type": "code",
   "execution_count": 51,
   "metadata": {
    "colab": {
     "base_uri": "https://localhost:8080/"
    },
    "id": "1Lw3VabG2G0F",
    "outputId": "67865610-9797-418c-bce9-98b53974ed2d"
   },
   "outputs": [],
   "source": [
    "df[\"Venue (sponsor)\"] = df[\"Sponsor (clean)\"] + ' ' + df['Venue (clean)']\n",
    "df[\"Venue (sponsor)\"] = df[\"Venue (sponsor)\"].str.strip()\n",
    "df_venue = count_with_percentage(df, col_name='Venue (sponsor)').set_index('Venue (sponsor)')\n",
    "df_venue.to_csv(VENUE_PATH)"
   ]
  },
  {
   "cell_type": "code",
   "execution_count": 52,
   "metadata": {
    "colab": {
     "base_uri": "https://localhost:8080/",
     "height": 394
    },
    "id": "gyQfx3uZ9xFH",
    "outputId": "e5696978-4cf0-4133-a386-c19492f6286a"
   },
   "outputs": [
    {
     "data": {
      "text/html": [
       "<div>\n",
       "<style scoped>\n",
       "    .dataframe tbody tr th:only-of-type {\n",
       "        vertical-align: middle;\n",
       "    }\n",
       "\n",
       "    .dataframe tbody tr th {\n",
       "        vertical-align: top;\n",
       "    }\n",
       "\n",
       "    .dataframe thead th {\n",
       "        text-align: right;\n",
       "    }\n",
       "</style>\n",
       "<table border=\"1\" class=\"dataframe\">\n",
       "  <thead>\n",
       "    <tr style=\"text-align: right;\">\n",
       "      <th></th>\n",
       "      <th>Nb</th>\n",
       "      <th>Perc.</th>\n",
       "    </tr>\n",
       "    <tr>\n",
       "      <th>Venue (sponsor)</th>\n",
       "      <th></th>\n",
       "      <th></th>\n",
       "    </tr>\n",
       "  </thead>\n",
       "  <tbody>\n",
       "    <tr>\n",
       "      <th>ACM CHI</th>\n",
       "      <td>156</td>\n",
       "      <td>17.7</td>\n",
       "    </tr>\n",
       "    <tr>\n",
       "      <th>ACM ASSETS</th>\n",
       "      <td>141</td>\n",
       "      <td>16.0</td>\n",
       "    </tr>\n",
       "    <tr>\n",
       "      <th>ACM TACCESS</th>\n",
       "      <td>39</td>\n",
       "      <td>4.4</td>\n",
       "    </tr>\n",
       "    <tr>\n",
       "      <th>IEEE Access</th>\n",
       "      <td>35</td>\n",
       "      <td>4.0</td>\n",
       "    </tr>\n",
       "    <tr>\n",
       "      <th>IEEE EMBC</th>\n",
       "      <td>16</td>\n",
       "      <td>1.8</td>\n",
       "    </tr>\n",
       "    <tr>\n",
       "      <th>IEEE TNSRE</th>\n",
       "      <td>15</td>\n",
       "      <td>1.7</td>\n",
       "    </tr>\n",
       "    <tr>\n",
       "      <th>ACM UIST</th>\n",
       "      <td>14</td>\n",
       "      <td>1.6</td>\n",
       "    </tr>\n",
       "    <tr>\n",
       "      <th>ACM PACMHCI</th>\n",
       "      <td>13</td>\n",
       "      <td>1.5</td>\n",
       "    </tr>\n",
       "    <tr>\n",
       "      <th>IEEE ToH</th>\n",
       "      <td>11</td>\n",
       "      <td>1.2</td>\n",
       "    </tr>\n",
       "    <tr>\n",
       "      <th>IEEE THMS</th>\n",
       "      <td>10</td>\n",
       "      <td>1.1</td>\n",
       "    </tr>\n",
       "  </tbody>\n",
       "</table>\n",
       "</div>"
      ],
      "text/plain": [
       "                  Nb  Perc.\n",
       "Venue (sponsor)            \n",
       "ACM CHI          156   17.7\n",
       "ACM ASSETS       141   16.0\n",
       "ACM TACCESS       39    4.4\n",
       "IEEE Access       35    4.0\n",
       "IEEE EMBC         16    1.8\n",
       "IEEE TNSRE        15    1.7\n",
       "ACM UIST          14    1.6\n",
       "ACM PACMHCI       13    1.5\n",
       "IEEE ToH          11    1.2\n",
       "IEEE THMS         10    1.1"
      ]
     },
     "execution_count": 52,
     "metadata": {},
     "output_type": "execute_result"
    }
   ],
   "source": [
    "df_venue = df_venue.head(10)\n",
    "df_venue"
   ]
  },
  {
   "attachments": {},
   "cell_type": "markdown",
   "metadata": {
    "id": "5rZxBneitrIy"
   },
   "source": [
    "## Authorship\n",
    "Authors contributions to multiple communities (ACM, IEEE, ACM/IEEE)"
   ]
  },
  {
   "cell_type": "code",
   "execution_count": 3,
   "metadata": {},
   "outputs": [
    {
     "data": {
      "text/html": [
       "<div>\n",
       "<style scoped>\n",
       "    .dataframe tbody tr th:only-of-type {\n",
       "        vertical-align: middle;\n",
       "    }\n",
       "\n",
       "    .dataframe tbody tr th {\n",
       "        vertical-align: top;\n",
       "    }\n",
       "\n",
       "    .dataframe thead th {\n",
       "        text-align: right;\n",
       "    }\n",
       "</style>\n",
       "<table border=\"1\" class=\"dataframe\">\n",
       "  <thead>\n",
       "    <tr style=\"text-align: right;\">\n",
       "      <th></th>\n",
       "      <th>Author(s) ID</th>\n",
       "      <th>ACM</th>\n",
       "      <th>ACM/IEEE</th>\n",
       "      <th>IEEE</th>\n",
       "      <th>All</th>\n",
       "    </tr>\n",
       "  </thead>\n",
       "  <tbody>\n",
       "    <tr>\n",
       "      <th>0</th>\n",
       "      <td>13009001800</td>\n",
       "      <td>1</td>\n",
       "      <td>0</td>\n",
       "      <td>1</td>\n",
       "      <td>2</td>\n",
       "    </tr>\n",
       "    <tr>\n",
       "      <th>1</th>\n",
       "      <td>14031183900</td>\n",
       "      <td>2</td>\n",
       "      <td>0</td>\n",
       "      <td>1</td>\n",
       "      <td>3</td>\n",
       "    </tr>\n",
       "    <tr>\n",
       "      <th>2</th>\n",
       "      <td>14523706200</td>\n",
       "      <td>1</td>\n",
       "      <td>0</td>\n",
       "      <td>1</td>\n",
       "      <td>2</td>\n",
       "    </tr>\n",
       "    <tr>\n",
       "      <th>3</th>\n",
       "      <td>15724751900</td>\n",
       "      <td>6</td>\n",
       "      <td>0</td>\n",
       "      <td>3</td>\n",
       "      <td>9</td>\n",
       "    </tr>\n",
       "    <tr>\n",
       "      <th>4</th>\n",
       "      <td>15835267300</td>\n",
       "      <td>16</td>\n",
       "      <td>0</td>\n",
       "      <td>1</td>\n",
       "      <td>17</td>\n",
       "    </tr>\n",
       "    <tr>\n",
       "      <th>...</th>\n",
       "      <td>...</td>\n",
       "      <td>...</td>\n",
       "      <td>...</td>\n",
       "      <td>...</td>\n",
       "      <td>...</td>\n",
       "    </tr>\n",
       "    <tr>\n",
       "      <th>87</th>\n",
       "      <td>7403181182</td>\n",
       "      <td>0</td>\n",
       "      <td>1</td>\n",
       "      <td>1</td>\n",
       "      <td>2</td>\n",
       "    </tr>\n",
       "    <tr>\n",
       "      <th>88</th>\n",
       "      <td>8531922500</td>\n",
       "      <td>1</td>\n",
       "      <td>0</td>\n",
       "      <td>5</td>\n",
       "      <td>6</td>\n",
       "    </tr>\n",
       "    <tr>\n",
       "      <th>89</th>\n",
       "      <td>8684305800</td>\n",
       "      <td>2</td>\n",
       "      <td>0</td>\n",
       "      <td>1</td>\n",
       "      <td>3</td>\n",
       "    </tr>\n",
       "    <tr>\n",
       "      <th>90</th>\n",
       "      <td>8919148700</td>\n",
       "      <td>8</td>\n",
       "      <td>0</td>\n",
       "      <td>1</td>\n",
       "      <td>9</td>\n",
       "    </tr>\n",
       "    <tr>\n",
       "      <th>91</th>\n",
       "      <td>9133799500</td>\n",
       "      <td>4</td>\n",
       "      <td>0</td>\n",
       "      <td>3</td>\n",
       "      <td>7</td>\n",
       "    </tr>\n",
       "  </tbody>\n",
       "</table>\n",
       "<p>92 rows × 5 columns</p>\n",
       "</div>"
      ],
      "text/plain": [
       "    Author(s) ID  ACM  ACM/IEEE  IEEE  All\n",
       "0    13009001800    1         0     1    2\n",
       "1    14031183900    2         0     1    3\n",
       "2    14523706200    1         0     1    2\n",
       "3    15724751900    6         0     3    9\n",
       "4    15835267300   16         0     1   17\n",
       "..           ...  ...       ...   ...  ...\n",
       "87    7403181182    0         1     1    2\n",
       "88    8531922500    1         0     5    6\n",
       "89    8684305800    2         0     1    3\n",
       "90    8919148700    8         0     1    9\n",
       "91    9133799500    4         0     3    7\n",
       "\n",
       "[92 rows x 5 columns]"
      ]
     },
     "execution_count": 3,
     "metadata": {},
     "output_type": "execute_result"
    }
   ],
   "source": [
    "authors_contrib_multiple_sponsors_df = pd.read_csv(AUTHORS_MULTI_SPONS_CONTRIB_PATH)\n",
    "authors_contrib_multiple_sponsors_df"
   ]
  },
  {
   "cell_type": "markdown",
   "metadata": {
    "jp-MarkdownHeadingCollapsed": true
   },
   "source": [
    "### Private"
   ]
  },
  {
   "cell_type": "code",
   "execution_count": 4,
   "metadata": {},
   "outputs": [
    {
     "name": "stdout",
     "output_type": "stream",
     "text": [
      "{'Papers': 880, 'Authors': 2458}\n",
      "         counts\n",
      "mean   4.234091\n",
      "std    1.914491\n",
      "min    1.000000\n",
      "25%    3.000000\n",
      "50%    4.000000\n",
      "75%    5.000000\n",
      "max   15.000000\n",
      "         counts\n",
      "mean   1.515867\n",
      "std    1.734268\n",
      "min    1.000000\n",
      "25%    1.000000\n",
      "50%    1.000000\n",
      "75%    1.000000\n",
      "max   28.000000\n",
      "Sponsor (clean)  ACM  ACM/IEEE  IEEE  All\n",
      "Author(s) ID                             \n",
      "13009001800        1         0     1    2\n",
      "14031183900        2         0     1    3\n",
      "14523706200        1         0     1    2\n",
      "15724751900        6         0     3    9\n",
      "15835267300       16         0     1   17\n",
      "...              ...       ...   ...  ...\n",
      "7403181182         0         1     1    2\n",
      "8531922500         1         0     5    6\n",
      "8684305800         2         0     1    3\n",
      "8919148700         8         0     1    9\n",
      "9133799500         4         0     3    7\n",
      "\n",
      "[92 rows x 4 columns]\n"
     ]
    }
   ],
   "source": [
    "import pandas as pd\n",
    "from dataset_analysis.analysis.authorship_analyzer import AuthorshipAnalyzer\n",
    "\n",
    "pd.set_option('display.max_rows', 10)\n",
    "pd.set_option('display.max_columns', 50)\n",
    "pd.set_option('display.width', 500)\n",
    "\n",
    "df = pd.read_excel(PRIV_DATASET_PATH)\n",
    "auth_analyzer = AuthorshipAnalyzer(df=df)\n",
    "\n",
    "auth_analyzer.prepare()\n",
    "\n",
    "print(auth_analyzer.summary())\n",
    "print(auth_analyzer.authors_per_paper_summary())\n",
    "print(auth_analyzer.papers_per_author_summary())\n",
    "\n",
    "authors_contrib_multiple_sponsors_df = auth_analyzer.authors_contrib_multiple_sponsors()\n",
    "print(authors_contrib_multiple_sponsors_df)"
   ]
  },
  {
   "attachments": {},
   "cell_type": "markdown",
   "metadata": {
    "id": "wYEdqlwKukNN"
   },
   "source": [
    "## Issue Addressed and Contribution Type (N=100)"
   ]
  },
  {
   "cell_type": "code",
   "execution_count": 6,
   "metadata": {
    "id": "K8vCoX-Fuown"
   },
   "outputs": [],
   "source": [
    "RELEVANT_COLUMNS = ['DOI', 'Authors', 'Year', 'Theme', 'Category', 'Code']"
   ]
  },
  {
   "cell_type": "code",
   "execution_count": 12,
   "metadata": {
    "colab": {
     "base_uri": "https://localhost:8080/",
     "height": 363
    },
    "id": "3P0o9OdYvU61",
    "outputId": "d15d576e-c8b5-404b-ac96-1e067c207515"
   },
   "outputs": [
    {
     "data": {
      "text/html": [
       "<div>\n",
       "<style scoped>\n",
       "    .dataframe tbody tr th:only-of-type {\n",
       "        vertical-align: middle;\n",
       "    }\n",
       "\n",
       "    .dataframe tbody tr th {\n",
       "        vertical-align: top;\n",
       "    }\n",
       "\n",
       "    .dataframe thead th {\n",
       "        text-align: right;\n",
       "    }\n",
       "</style>\n",
       "<table border=\"1\" class=\"dataframe\">\n",
       "  <thead>\n",
       "    <tr style=\"text-align: right;\">\n",
       "      <th></th>\n",
       "      <th>DOI</th>\n",
       "      <th>Authors</th>\n",
       "      <th>Year</th>\n",
       "      <th>Theme</th>\n",
       "      <th>Category</th>\n",
       "      <th>Code</th>\n",
       "    </tr>\n",
       "  </thead>\n",
       "  <tbody>\n",
       "    <tr>\n",
       "      <th>0</th>\n",
       "      <td>10.1109/ICCV.2015.279</td>\n",
       "      <td>Antol et al.</td>\n",
       "      <td>2015</td>\n",
       "      <td>Research</td>\n",
       "      <td>Issue Addressed</td>\n",
       "      <td>Digital access</td>\n",
       "    </tr>\n",
       "  </tbody>\n",
       "</table>\n",
       "</div>"
      ],
      "text/plain": [
       "                     DOI       Authors  Year     Theme         Category            Code\n",
       "0  10.1109/ICCV.2015.279  Antol et al.  2015  Research  Issue Addressed  Digital access"
      ]
     },
     "execution_count": 12,
     "metadata": {},
     "output_type": "execute_result"
    }
   ],
   "source": [
    "df = pd.read_excel(CODING_PATH, sheet_name=0, usecols=RELEVANT_COLUMNS)\n",
    "df = df.dropna(axis='rows', how='all')\n",
    "df['Year'] = df['Year'].astype('int')\n",
    "df.head(1)"
   ]
  },
  {
   "cell_type": "code",
   "execution_count": 13,
   "metadata": {
    "id": "tLEUiMJKOCsH"
   },
   "outputs": [
    {
     "data": {
      "text/html": [
       "<div>\n",
       "<style scoped>\n",
       "    .dataframe tbody tr th:only-of-type {\n",
       "        vertical-align: middle;\n",
       "    }\n",
       "\n",
       "    .dataframe tbody tr th {\n",
       "        vertical-align: top;\n",
       "    }\n",
       "\n",
       "    .dataframe thead th {\n",
       "        text-align: right;\n",
       "    }\n",
       "</style>\n",
       "<table border=\"1\" class=\"dataframe\">\n",
       "  <thead>\n",
       "    <tr style=\"text-align: right;\">\n",
       "      <th></th>\n",
       "      <th>DOI</th>\n",
       "      <th>Authors</th>\n",
       "      <th>Freq</th>\n",
       "    </tr>\n",
       "  </thead>\n",
       "  <tbody>\n",
       "    <tr>\n",
       "      <th>0</th>\n",
       "      <td>10.1109/ACCESS.2020.2967400</td>\n",
       "      <td>Chang et al.</td>\n",
       "      <td>16</td>\n",
       "    </tr>\n",
       "    <tr>\n",
       "      <th>1</th>\n",
       "      <td>10.1109/ACCESS.2021.3058986</td>\n",
       "      <td>Jalal et al.</td>\n",
       "      <td>13</td>\n",
       "    </tr>\n",
       "    <tr>\n",
       "      <th>2</th>\n",
       "      <td>10.1109/ACCESS.2022.3146320</td>\n",
       "      <td>Masud et al.</td>\n",
       "      <td>14</td>\n",
       "    </tr>\n",
       "    <tr>\n",
       "      <th>3</th>\n",
       "      <td>10.1109/ACCESS.2022.3148036</td>\n",
       "      <td>Ashiq et al.</td>\n",
       "      <td>18</td>\n",
       "    </tr>\n",
       "    <tr>\n",
       "      <th>4</th>\n",
       "      <td>10.1109/CVPR.2018.00374</td>\n",
       "      <td>Zhou et al.</td>\n",
       "      <td>15</td>\n",
       "    </tr>\n",
       "    <tr>\n",
       "      <th>...</th>\n",
       "      <td>...</td>\n",
       "      <td>...</td>\n",
       "      <td>...</td>\n",
       "    </tr>\n",
       "    <tr>\n",
       "      <th>95</th>\n",
       "      <td>10.1145/3313831.3376472</td>\n",
       "      <td>Colley et al.</td>\n",
       "      <td>17</td>\n",
       "    </tr>\n",
       "    <tr>\n",
       "      <th>96</th>\n",
       "      <td>10.1145/3313831.3376516</td>\n",
       "      <td>Zhao et al.</td>\n",
       "      <td>15</td>\n",
       "    </tr>\n",
       "    <tr>\n",
       "      <th>97</th>\n",
       "      <td>10.1145/3313831.3376728</td>\n",
       "      <td>Gleason et al.</td>\n",
       "      <td>18</td>\n",
       "    </tr>\n",
       "    <tr>\n",
       "      <th>98</th>\n",
       "      <td>10.1145/3377811.3380327</td>\n",
       "      <td>Chen et al.</td>\n",
       "      <td>15</td>\n",
       "    </tr>\n",
       "    <tr>\n",
       "      <th>99</th>\n",
       "      <td>10.1145/3411764.3445620</td>\n",
       "      <td>Tigwell et al.</td>\n",
       "      <td>14</td>\n",
       "    </tr>\n",
       "  </tbody>\n",
       "</table>\n",
       "<p>100 rows × 3 columns</p>\n",
       "</div>"
      ],
      "text/plain": [
       "                            DOI         Authors  Freq\n",
       "0   10.1109/ACCESS.2020.2967400    Chang et al.    16\n",
       "1   10.1109/ACCESS.2021.3058986    Jalal et al.    13\n",
       "2   10.1109/ACCESS.2022.3146320   Masud et al.     14\n",
       "3   10.1109/ACCESS.2022.3148036    Ashiq et al.    18\n",
       "4       10.1109/CVPR.2018.00374     Zhou et al.    15\n",
       "..                          ...             ...   ...\n",
       "95      10.1145/3313831.3376472  Colley et al.     17\n",
       "96      10.1145/3313831.3376516     Zhao et al.    15\n",
       "97      10.1145/3313831.3376728  Gleason et al.    18\n",
       "98      10.1145/3377811.3380327     Chen et al.    15\n",
       "99      10.1145/3411764.3445620  Tigwell et al.    14\n",
       "\n",
       "[100 rows x 3 columns]"
      ]
     },
     "execution_count": 13,
     "metadata": {},
     "output_type": "execute_result"
    }
   ],
   "source": [
    "df_unique = df.groupby(['DOI', 'Authors']).size().reset_index(name='Freq')\n",
    "df_unique"
   ]
  },
  {
   "cell_type": "code",
   "execution_count": 14,
   "metadata": {
    "id": "33fBI60mQUR8"
   },
   "outputs": [],
   "source": [
    "assert len(df_unique) == 100"
   ]
  },
  {
   "attachments": {},
   "cell_type": "markdown",
   "metadata": {
    "id": "Rg7ISLpAeXzq"
   },
   "source": [
    "### Issue Addressed"
   ]
  },
  {
   "cell_type": "code",
   "execution_count": 16,
   "metadata": {
    "id": "r0OO1qMdJWHX"
   },
   "outputs": [
    {
     "name": "stdout",
     "output_type": "stream",
     "text": [
      "Index(['DOI', 'Authors', 'Year', 'Theme', 'Category', 'Code'], dtype='object')\n",
      "100\n",
      "166\n",
      "                    Code  Nb  Perc.\n",
      "1         Digital access  38   38.0\n",
      "2  Increase independence  34   34.0\n",
      "4        Physical access  30   30.0\n",
      "3                  Other  25   25.0\n",
      "6     User understanding  25   25.0\n",
      "0  Communication support   8    8.0\n",
      "5      Support education   6    6.0\n",
      "Code          All\n",
      "count  100.000000\n",
      "mean     1.660000\n",
      "std      0.669992\n",
      "min      1.000000\n",
      "25%      1.000000\n",
      "50%      2.000000\n",
      "75%      2.000000\n",
      "max      3.000000\n",
      "Index(['Communication support', 'Digital access', 'Increase independence', 'Other', 'Physical access', 'Support education', 'User understanding'], dtype='object', name='Code')\n",
      "                                               Coding  Nb  Perc.\n",
      "10                  Digital accessxUser understanding  14   14.0\n",
      "5                                      Digital access  13   13.0\n",
      "19                                    Physical access  11   11.0\n",
      "11                              Increase independence  10   10.0\n",
      "12                        Increase independencexOther  10   10.0\n",
      "..                                                ...  ..    ...\n",
      "4             Communication supportxSupport education   1    1.0\n",
      "6                Digital accessxIncrease independence   1    1.0\n",
      "7   Digital accessxIncrease independencexPhysical ...   1    1.0\n",
      "15  Increase independencexPhysical accessxUser und...   1    1.0\n",
      "18                           OtherxUser understanding   1    1.0\n",
      "\n",
      "[23 rows x 3 columns]\n"
     ]
    }
   ],
   "source": [
    "from dataset_analysis.analysis.category_analyzer import CategoryAnalyzer\n",
    "\n",
    "df_issue_adr = df.loc[ df['Category'] == 'Issue Addressed' ]\n",
    "\n",
    "analyzer = CategoryAnalyzer(filtered_df=df_issue_adr)\n",
    "cat_groups = analyzer.count()\n",
    "print(cat_groups)\n",
    "\n",
    "cat_groups_matrix = analyzer.count_matrix()\n",
    "#print(cat_groups_matrix)\n",
    "print(cat_groups_matrix[[\"All\"]].describe())\n",
    "\n",
    "coding_combinations_df = analyzer.count_co_occurrences()\n",
    "print(coding_combinations_df)"
   ]
  },
  {
   "attachments": {},
   "cell_type": "markdown",
   "metadata": {
    "id": "_R8B6hncecXR"
   },
   "source": [
    "### Contribution Type"
   ]
  },
  {
   "cell_type": "code",
   "execution_count": 17,
   "metadata": {
    "id": "naNCXAbsT8Gn"
   },
   "outputs": [
    {
     "name": "stdout",
     "output_type": "stream",
     "text": [
      "Index(['DOI', 'Authors', 'Year', 'Theme', 'Category', 'Code'], dtype='object')\n",
      "100\n",
      "191\n",
      "      Code  Nb  Perc.\n",
      "2     Emp.  93   93.0\n",
      "0     Art.  73   73.0\n",
      "1  Dataset   6    6.0\n",
      "3  Method.   2    2.0\n",
      "4    Theo.   2    2.0\n",
      "Code          All\n",
      "count  100.000000\n",
      "mean     1.760000\n",
      "std      0.570663\n",
      "min      1.000000\n",
      "25%      1.000000\n",
      "50%      2.000000\n",
      "75%      2.000000\n",
      "max      3.000000\n",
      "Index(['Art.', 'Dataset', 'Emp.', 'Method.', 'Theo.'], dtype='object', name='Code')\n",
      "              Coding  Nb  Perc.\n",
      "2          Art.xEmp.  59   59.0\n",
      "6               Emp.  24   24.0\n",
      "0               Art.   7    7.0\n",
      "1  Art.xDatasetxEmp.   5    5.0\n",
      "3  Art.xEmp.xMethod.   1    1.0\n",
      "4    Art.xEmp.xTheo.   1    1.0\n",
      "5       DatasetxEmp.   1    1.0\n",
      "7       Emp.xMethod.   1    1.0\n",
      "8         Emp.xTheo.   1    1.0\n"
     ]
    }
   ],
   "source": [
    "df_contr_type = df.loc[ df['Category'] == 'Contribution type' ]\n",
    "\n",
    "analyzer = CategoryAnalyzer(filtered_df=df_contr_type)\n",
    "cat_groups = analyzer.count()\n",
    "print(cat_groups)\n",
    "\n",
    "cat_groups_matrix = analyzer.count_matrix()\n",
    "#print(cat_groups_matrix)\n",
    "print(cat_groups_matrix[[\"All\"]].describe())\n",
    "\n",
    "coding_combinations_df = analyzer.count_co_occurrences()\n",
    "print(coding_combinations_df)"
   ]
  },
  {
   "attachments": {},
   "cell_type": "markdown",
   "metadata": {},
   "source": [
    "# Part 2: TAK Analysis\n",
    "Process:\n",
    "1.   Analyze Titles, Abstract, and Keywords (TAK) to see most important keywords as well as Multiword Expressions through collocations.\n",
    "2.   Create a manually curated list and a stopword list. The curated list will serve to run a terms counter.\n",
    "3.   Create a data visualization of the processing."
   ]
  },
  {
   "attachments": {},
   "cell_type": "markdown",
   "metadata": {},
   "source": [
    "## 2.1 Automatic analysis to identify frequent terms or group of terms\n",
    "Analyze 1- to 4- grams in the publications Titles, Abstract, and Keywords (TAK).\n",
    "\n",
    "NLTK\n",
    "- https://www.nltk.org/howto/collocations.html\n",
    "- https://www.nltk.org/book/ch01.html\n",
    "- https://notebook.community/mediagestalt/Collocation/Collocation\n",
    "- https://tedboy.github.io/nlps/generated/generated/nltk.BigramAssocMeasures.html#methods\n",
    "\n",
    "Other resources:\n",
    "- https://pitt.libguides.com/textmining/collocation"
   ]
  },
  {
   "attachments": {},
   "cell_type": "markdown",
   "metadata": {
    "jp-MarkdownHeadingCollapsed": true
   },
   "source": [
    "### Private (Needs Title, Abstract, and Authors Keywords)"
   ]
  },
  {
   "cell_type": "code",
   "execution_count": 18,
   "metadata": {},
   "outputs": [
    {
     "name": "stdout",
     "output_type": "stream",
     "text": [
      "/home/jovyan/work\n"
     ]
    }
   ],
   "source": [
    "import os\n",
    "\n",
    "ROOT_PATH = os.getcwd()\n",
    "print(ROOT_PATH)\n",
    "\n",
    "# Private paths\n",
    "PRIV_DATASET_PATH = os.path.join(ROOT_PATH, 'data/private/dataset_N880.xlsx')\n",
    "PRIV_TAK_OUT_FOLDER_PATH = os.path.join(ROOT_PATH, 'data/private/analysis/tak_auto')"
   ]
  },
  {
   "cell_type": "code",
   "execution_count": 19,
   "metadata": {},
   "outputs": [
    {
     "name": "stdout",
     "output_type": "stream",
     "text": [
      "['Title', 'Abstract', 'Author Keywords', 'VOS cluster']\n",
      "1 403\n",
      "2 176\n",
      "3 166\n",
      "4 95\n",
      "5 40\n"
     ]
    }
   ],
   "source": [
    "import pandas as pd\n",
    "from dataset_analysis.analyzer_utils import count_terms\n",
    "\n",
    "pd.set_option('display.max_rows', 100)\n",
    "pd.set_option('display.max_columns', 50)\n",
    "pd.set_option('display.width', 500)\n",
    "\n",
    "COLUMNS = ['Title', 'Abstract', 'Author Keywords']\n",
    "COL_NAME_FILTER = 'VOS cluster' # Can be 'Cluster' depending of the dataset used \n",
    "\n",
    "# Launch analysis\n",
    "count_terms(dataset_filepath=PRIV_DATASET_PATH,\n",
    "            tak_columns=COLUMNS,\n",
    "            cluster_col=COL_NAME_FILTER,\n",
    "            cluster_values=['1', '2', '3', '4', '5'],\n",
    "            out_folder_path=PRIV_TAK_OUT_FOLDER_PATH)"
   ]
  },
  {
   "attachments": {},
   "cell_type": "markdown",
   "metadata": {},
   "source": [
    "## 2.2. Count Keywords per Paper (after a manual selection of terms)"
   ]
  },
  {
   "attachments": {},
   "cell_type": "markdown",
   "metadata": {},
   "source": [
    "### Community of Focus (Human)"
   ]
  },
  {
   "cell_type": "markdown",
   "metadata": {},
   "source": [
    "#### Public\n",
    "Load a crosstab and print results."
   ]
  },
  {
   "cell_type": "code",
   "execution_count": 20,
   "metadata": {},
   "outputs": [
    {
     "name": "stdout",
     "output_type": "stream",
     "text": [
      "                             DOI  BLV_IFL  BLV_MULTI_IFL  BLV_PFL  B_IFL  B_PFL  LV_IFL  LV_PFL  Totals\n",
      "0    10.1109/ACCESS.2017.2766579        1              0        0      0      0       0       0       1\n",
      "1    10.1109/ACCESS.2018.2817164        1              0        0      0      0       0       0       1\n",
      "2    10.1109/ACCESS.2018.2852723        2              0        0      1      0       0       0       3\n",
      "3    10.1109/ACCESS.2018.2870334        2              0        0      0      0       0       0       2\n",
      "4    10.1109/ACCESS.2018.2886308        0              1        0      0      0       0       0       1\n",
      "..                           ...      ...            ...      ...    ...    ...     ...     ...     ...\n",
      "828      10.1145/3530190.3534837        1              0        0      0      0       0       0       1\n",
      "829              10.1145/3546714        0              0        0      5      0       0       0       5\n",
      "830      10.1145/3547522.3547685        1              0        0      0      0       0       0       1\n",
      "831              10.1145/3550282        0              1        0      0      0       0       0       1\n",
      "832  10.23919/CISTI.2018.8399347        0              1        0      0      1       0       0       2\n",
      "\n",
      "[833 rows x 9 columns]\n",
      "[212, 148, 128, 89, 42, 31, 27, 24, 15, 14, 12, 11, 10, 10, 8, 8, 7, 5, 4, 3, 3, 3, 2, 2, 2, 2, 1, 1, 1, 1, 1, 1, 1, 1, 1, 1, 1]\n",
      "[['BLV (IFL)'], ['Blind (IFL)'], ['BLV (PFL)'], ['Blind (IFL)', 'BLV (IFL)'], ['BLV (PFL)', 'BLV (IFL)'], ['BLV multi. (IFL)'], ['Blind (IFL)', 'BLV multi. (IFL)'], ['BLV (PFL)', 'Blind (IFL)'], ['Blind (PFL)', 'Blind (IFL)'], ['Blind (PFL)', 'BLV (PFL)'], ['Low-vision (PFL)'], ['BLV multi. (IFL)', 'BLV (IFL)'], ['Blind (IFL)', 'BLV multi. (IFL)', 'BLV (IFL)'], ['Blind (PFL)'], ['Low-vision (PFL)', 'Low-vision (IFL)'], ['BLV (PFL)', 'Blind (IFL)', 'BLV (IFL)'], ['BLV (PFL)', 'BLV multi. (IFL)'], ['Blind (PFL)', 'BLV (PFL)', 'Blind (IFL)'], ['Blind (PFL)', 'BLV multi. (IFL)'], ['Blind (PFL)', 'BLV (IFL)'], ['Low-vision (PFL)', 'BLV (IFL)'], ['Low-vision (IFL)', 'BLV (IFL)'], ['Low-vision (IFL)', 'Blind (IFL)'], ['BLV (PFL)', 'BLV multi. (IFL)', 'Blind (IFL)'], ['Low-vision (PFL)', 'Low-vision (IFL)', 'Blind (IFL)'], ['Blind (PFL)', 'Blind (IFL)', 'BLV (IFL)'], ['Low-vision (IFL)', 'BLV (PFL)'], ['Low-vision (IFL)', 'BLV (PFL)', 'Blind (IFL)', 'BLV (IFL)'], ['Blind (PFL)', 'BLV (PFL)', 'Low-vision (PFL)'], ['Low-vision (IFL)', 'Blind (IFL)', 'BLV (IFL)'], ['Low-vision (IFL)', 'BLV multi. (IFL)'], ['Low-vision (IFL)'], ['Low-vision (PFL)', 'BLV (PFL)'], ['Low-vision (PFL)', 'Blind (IFL)'], ['Low-vision (PFL)', 'Blind (PFL)'], ['Low-vision (PFL)', 'Low-vision (IFL)', 'BLV (PFL)', 'Blind (IFL)'], ['Blind (PFL)', 'BLV (PFL)', 'BLV multi. (IFL)']]\n",
      "        categories_group\n",
      "0                BLV_IFL\n",
      "1                BLV_IFL\n",
      "2          B_IFLxBLV_IFL\n",
      "3                BLV_IFL\n",
      "4          BLV_MULTI_IFL\n",
      "..                   ...\n",
      "828              BLV_IFL\n",
      "829                B_IFL\n",
      "830              BLV_IFL\n",
      "831        BLV_MULTI_IFL\n",
      "832  B_PFLxBLV_MULTI_IFL\n",
      "\n",
      "[833 rows x 1 columns]\n",
      "                                                Group  count\n",
      "0                               Blind (IFL)xBLV (IFL)     89\n",
      "1                                 BLV (PFL)xBLV (IFL)     42\n",
      "2                        Blind (IFL)xBLV multi. (IFL)     27\n",
      "3                               BLV (PFL)xBlind (IFL)     24\n",
      "4                             Blind (PFL)xBlind (IFL)     15\n",
      "5                               Blind (PFL)xBLV (PFL)     14\n",
      "6                          BLV multi. (IFL)xBLV (IFL)     11\n",
      "7              Blind (IFL)xBLV multi. (IFL)xBLV (IFL)     10\n",
      "8                   Low-vision (PFL)xLow-vision (IFL)      8\n",
      "9                     BLV (PFL)xBlind (IFL)xBLV (IFL)      8\n",
      "10                         BLV (PFL)xBLV multi. (IFL)      7\n",
      "11                  Blind (PFL)xBLV (PFL)xBlind (IFL)      5\n",
      "12                       Blind (PFL)xBLV multi. (IFL)      4\n",
      "13                              Blind (PFL)xBLV (IFL)      3\n",
      "14                         Low-vision (PFL)xBLV (IFL)      3\n",
      "15                         Low-vision (IFL)xBLV (IFL)      3\n",
      "16                       Low-vision (IFL)xBlind (IFL)      2\n",
      "17             BLV (PFL)xBLV multi. (IFL)xBlind (IFL)      2\n",
      "18      Low-vision (PFL)xLow-vision (IFL)xBlind (IFL)      2\n",
      "19                  Blind (PFL)xBlind (IFL)xBLV (IFL)      2\n",
      "20                         Low-vision (IFL)xBLV (PFL)      1\n",
      "21   Low-vision (IFL)xBLV (PFL)xBlind (IFL)xBLV (IFL)      1\n",
      "22             Blind (PFL)xBLV (PFL)xLow-vision (PFL)      1\n",
      "23             Low-vision (IFL)xBlind (IFL)xBLV (IFL)      1\n",
      "24                  Low-vision (IFL)xBLV multi. (IFL)      1\n",
      "25                         Low-vision (PFL)xBLV (PFL)      1\n",
      "26                       Low-vision (PFL)xBlind (IFL)      1\n",
      "27                       Low-vision (PFL)xBlind (PFL)      1\n",
      "28  Low-vision (PFL)xLow-vision (IFL)xBLV (PFL)xBl...      1\n",
      "29             Blind (PFL)xBLV (PFL)xBLV multi. (IFL)      1\n",
      "Sum:\n",
      "291\n"
     ]
    },
    {
     "data": {
      "image/png": "[encoded data removed]",
      "text/plain": [
       "<Figure size 1145.83x590.278 with 4 Axes>"
      ]
     },
     "metadata": {},
     "output_type": "display_data"
    }
   ],
   "source": [
    "import os\n",
    "import pandas as pd\n",
    "from dataset_analysis.analyzer_utils import crosstab_analysis\n",
    "\n",
    "ROOT_PATH = os.getcwd()\n",
    "\n",
    "# Mapping table to rename groups that have naming limitations\n",
    "RENAME_POPULATION_DICT = {\n",
    "    'BLV_MULTI_IFL': 'BLV multi. (IFL)',\n",
    "    'BLV_IFL': 'BLV (IFL)',\n",
    "    'BLV_PFL': 'BLV (PFL)',\n",
    "    'B_IFL': 'Blind (IFL)',\n",
    "    'B_PFL': 'Blind (PFL)',\n",
    "    'LV_IFL': 'Low-vision (IFL)',\n",
    "    'LV_PFL': 'Low-vision (PFL)'\n",
    "}\n",
    "\n",
    "PUB_CROSSTAB_PATH = os.path.join(ROOT_PATH, 'data/results/analysis/community_of_focus/mentionBLV_crosstab.xlsx')\n",
    "FIG_FOLDER_PATH = os.path.join(ROOT_PATH, 'data/results/analysis/community_of_focus/')\n",
    "FIG_NAME = 'BLV_terms_TAK'\n",
    "\n",
    "keyword_crosstab_df = pd.read_excel(PUB_CROSSTAB_PATH)\n",
    "crosstab_analysis(keyword_crosstab_df=keyword_crosstab_df,\n",
    "                  figname=FIG_NAME,\n",
    "                  fig_folder_path=FIG_FOLDER_PATH,\n",
    "                  rename_dict=RENAME_POPULATION_DICT)"
   ]
  },
  {
   "cell_type": "markdown",
   "metadata": {},
   "source": [
    "#### Private\n",
    "Generate a crosstab from raw data and print results."
   ]
  },
  {
   "cell_type": "code",
   "execution_count": 21,
   "metadata": {},
   "outputs": [
    {
     "name": "stdout",
     "output_type": "stream",
     "text": [
      "                  operation       type  nb rows\n",
      "0              Load dataset        N/A      880\n",
      "1       Remove N/A abstract  automatic        0\n",
      "2     Remove N/A references  automatic        0\n",
      "3  Remove N/A document type  automatic        0\n",
      "4            Export dataset        N/A      880\n",
      "Patterns: (?P<BLV_MULTI_IFL>((?:\\S*? )?(?:blind (?:and|or) (?:vis\\w*|low|partial\\w*)[ |-](?:\\w*))(?: (?:child(?:ren)?|(?:software )?developers?|designers?|individuals?|learners?|participants?|pedestrians?|people|persons?|population|programmer?|pupils?|students?|subjects?|users?)|(?:[,|.|?]))))|(?P<BLV_IFL>(?:((?:the vis\\w*[ |-]impaired[,|.|?])|(?:(?:vis\\w*[ |-](?:impaired|challenged|disabled)) (?:child(?:ren)?|(?:software )?developers?|designers?|individuals?|learners?|participants?|pedestrians?|people|persons?|population|programmer?|pupils?|students?|subjects?|users?)))))|(?P<BLV_PFL>((?:child(?:ren)?|(?:software )?developers?|designers?|individuals?|learners?|participants?|pedestrians?|people|persons?|population|programmer?|pupils?|students?|subjects?|those|users?) (?:(?:with|who\\sare|who\\shave) (?:vis[a-z-]* impair[a-z-]*|vis[a-z-]* disabilit[a-z-]*|vision loss|mixed visual abilit[a-z-]*))))|(?P<B_IFL>(?:((?:blind) ?(?:child(?:ren)?|(?:software )?developers?|designers?|individuals?|learners?|participants?|pedestrians?|people|persons?|population|programmer?|pupils?|students?|subjects?|users?))|(the blind(?:[,|.|?]) ?(?:\\w* \\w*)?)))|(?P<B_PFL>(?:(?:child(?:ren)?|(?:software )?developers?|designers?|individuals?|learners?|participants?|pedestrians?|people|persons?|population|programmer?|pupils?|students?|subjects?|those|users?)(?:(?:[\\s]with[\\s]blindness)|(?:[\\s]who are blind))))|(?P<LV_IFL>((?:\\S*? )?(?:low[\\s|-]vision|partially sighted) (?:child(?:ren)?|(?:software )?developers?|designers?|individuals?|learners?|participants?|pedestrians?|people|persons?|population|programmer?|pupils?|students?|subjects?|users?)))|(?P<LV_PFL>((?:child(?:ren)?|(?:software )?developers?|designers?|individuals?|learners?|participants?|pedestrians?|people|persons?|population|programmer?|pupils?|students?|subjects?|those|users?) (?:(?:with|who have)(?:[\\s]low[\\s|-]vision))))\n",
      "keyword                          DOI  BLV_IFL  BLV_MULTI_IFL  BLV_PFL  B_IFL  B_PFL  LV_IFL  LV_PFL  Totals\n",
      "0        10.1109/ACCESS.2017.2766579        1              0        0      0      0       0       0       1\n",
      "1        10.1109/ACCESS.2018.2817164        1              0        0      0      0       0       0       1\n",
      "2        10.1109/ACCESS.2018.2852723        2              0        0      1      0       0       0       3\n",
      "3        10.1109/ACCESS.2018.2870334        2              0        0      0      0       0       0       2\n",
      "4        10.1109/ACCESS.2018.2886308        0              1        0      0      0       0       0       1\n",
      "..                               ...      ...            ...      ...    ...    ...     ...     ...     ...\n",
      "828          10.1145/3530190.3534837        1              0        0      0      0       0       0       1\n",
      "829                  10.1145/3546714        0              0        0      5      0       0       0       5\n",
      "830          10.1145/3547522.3547685        1              0        0      0      0       0       0       1\n",
      "831                  10.1145/3550282        0              1        0      0      0       0       0       1\n",
      "832      10.23919/CISTI.2018.8399347        0              1        0      0      1       0       0       2\n",
      "\n",
      "[833 rows x 9 columns]\n",
      "47\n",
      "                                               Authors                                                TAK                             DOI\n",
      "23   Batanero-Ochaita C., De-Marcos L., Rivera L.F....  improving accessibility in online education: c...     10.1109/ACCESS.2021.3095041\n",
      "31   Yuan Z., Azzino T., Hao Y., Lyu Y., Pei H., Bo...  network-aware 5g edge computing for object det...     10.1109/ACCESS.2022.3157876\n",
      "33              Xia K., Li X., Liu H., Zhou M., Zhu K.  ibgs: a wearable smart system to assist visual...     10.1109/ACCESS.2022.3193097\n",
      "49                        Elmannai W.M., Elleithy K.M.  a novel obstacle avoidance system for guiding ...       10.1109/CCNC.2018.8319310\n",
      "77                             Leung T.-S., Medioni G.  visual navigation aid for the blind in dynamic...           10.1109/CVPRW.2014.89\n",
      "78   Mahendran J.K., Barry D.T., Nivedha A.K., Bhan...  computer vision-based assistance system for th...   10.1109/CVPRW53098.2021.00274\n",
      "83   Smelyakov K., Chupryna A., Yeremenko D., Sakho...  braille character recognition based on neural ...       10.1109/DSMP.2018.8478615\n",
      "90   Loizos K., Lazzi G., Lauritzen J.S., Anderson ...  a multi-scale computational model for the stud...       10.1109/EMBC.2014.6945021\n",
      "100                           Spiers A.J., Dollar A.M.  outdoor pedestrian navigation assistance with ...    10.1109/HAPTICS.2016.7463152\n",
      "108                                       Strumillo P.  electronic interfaces aiding the visually impa...        10.1109/HSI.2010.5514595\n",
      "187  Ganesan K., Stacey A., Meffin H., Lichter S., ...  diamond penetrating electrode array for epi-re...      10.1109/IEMBS.2010.5626003\n",
      "193  Tran N., Skafidas E., Yang J., Bai S., Fu M., ...  a prototype 64-electrode stimulator in 65 nm c...      10.1109/IEMBS.2011.6091660\n",
      "203  Elloumi W., Guissous K., Chetouani A., Canals ...  indoor navigation assistance with a smartphone...       10.1109/IPIN.2013.6817911\n",
      "206                    Agrawal S., West M.E., Hayes B.  a novel perceptive robotic cane with haptic na...  10.1109/IROS47612.2022.9981219\n",
      "210                             Poggi M., Mattoccia S.  a wearable mobility aid for the visually impai...       10.1109/ISCC.2016.7543741\n",
      "219                Sáez J.M., Escolano F., Lozano M.A.  aerial obstacle detection with 3-d mobile devi...       10.1109/JBHI.2014.2322392\n",
      "223     Bourbakis N., Makrogiannis S.K., Dakopoulos D.  a system-prototype representing 3d space via a...       10.1109/JSEN.2013.2253092\n",
      "232  Horvath S., Galeotti J., Wu B., Klatzky R., Si...  fingersight: fingertip haptic sensing of the v...      10.1109/JTEHM.2014.2309343\n",
      "237                    Angin P., Bhargava B., Helal S.  a mobile-cloud collaborative traffic lights de...             10.1109/MDM.2010.71\n",
      "305       Ando B., Baglio S., Marletta V., Valastro A.  a haptic solution to assist visually impaired ...       10.1109/THMS.2015.2419256\n",
      "312                 White J., Kameneva T., McCarthy C.  vision processing for assistive vision: a deep...       10.1109/THMS.2021.3121661\n",
      "313                    Haque M.M., Zawoad S., Hasan R.  secure techniques and methods for authenticati...        10.1109/THS.2013.6699095\n",
      "339  Loizos K., Marc R., Humayun M., Anderson J.R.,...  increasing electrical stimulation efficacy in ...      10.1109/TNSRE.2018.2832055\n",
      "343           Chen D., Liu J., Tian L., Hu X., Song A.  research on the method of displaying the conto...      10.1109/TNSRE.2021.3123394\n",
      "345                    Hu X., Song A., Wei Z., Zeng H.  stereopilot: a wearable target location system...      10.1109/TNSRE.2022.3182661\n",
      "350                       Choinière J.-P., Gosselin C.  development and experimental validation of a h...        10.1109/TOH.2016.2580144\n",
      "351                           Spiers A.J., Dollar A.M.  design and evaluation of shape-changing haptic...        10.1109/TOH.2016.2582481\n",
      "378                    Lee C.-H., Su Y.-C., Chen L.-G.  an intelligent depth-based obstacle detection ...     10.1109/WIAMIS.2012.6226753\n",
      "401                 Ferres L., Lindgaard G., Sumegi L.  evaluating a tool for improving accessibility ...         10.1145/1878803.1878820\n",
      "446  Krejtz I., Szarkowska A., Krejtz K., Walczak A...  audio description as an aural guide of childre...         10.1145/2168556.2168572\n",
      "460  Giudice N.A., Palani H.P., Brenner E., Kramer ...  learning non-visual graphical information usin...         10.1145/2384916.2384935\n",
      "536  Miksik O., Vineet V., Lidegaard M., Prasaath R...  the semantic paintbrush: interactive 3d mappin...         10.1145/2702123.2702222\n",
      "542  Morash V.S., Siu Y.-T., Miele J.A., Hasty L., ...  guiding novice web workers in making image des...                 10.1145/2764916\n",
      "622  Reichinger A., Carrizosa H.G., Wood J., Schröd...  pictures in your mind: using interactive gestu...                 10.1145/3155286\n",
      "650               Kane S.K., Koushik V., Muehlbradt A.  bonk: accessible programming for accessible au...         10.1145/3202185.3202754\n",
      "758                      Nasser A., Keng K.-N., Zhu K.  thermalcane: exploring thermotactile direction...         10.1145/3373625.3417004\n",
      "776                    Pavel A., Reyes G., Bigham J.P.  rescribe: authoring and automatically editing ...         10.1145/3379337.3415864\n",
      "782        Theil A., Buchweitz L., Fuentes M., Korn O.  co-designing assistive tools to support social...         10.1145/3393914.3395869\n",
      "792               Ohshima H., Kobayashi M., Shimada S.  development of blind football play-by-play sys...         10.1145/3411763.3451737\n",
      "802         Peng Y.-H., Jang J., Bigham J.P., Pavel A.  say it all: feedback for improving non-visual ...         10.1145/3411764.3445572\n",
      "808  Zeng X., Wang Y., Chiu T.-Y., Bhattacharya N.,...  vision skills needed to answer visual question...                 10.1145/3415220\n",
      "810  Theil A., Buchweitz L., Gay J., Lindell E., Gu...  tactile board: a multimodal augmentative and a...         10.1145/3428361.3428465\n",
      "820          Lee J., Peng Y.-H., Herskovitz J., Guo A.  image explorer: multi-layered touch exploratio...         10.1145/3441852.3476548\n",
      "833  Han N., Srivastava S., Xu A., Klein D., Beyele...  deep learning based scene simplification for b...         10.1145/3458709.3458982\n",
      "855  Zimmerman J., Steinfeld A., Tomasic A., Romero...  recentering reframing as an rtd contribution: ...         10.1145/3491102.3517789\n",
      "868  Payne W.C., Ahmed F., Zachor M., Gardell M., H...  empowering blind musicians to compose and nota...         10.1145/3517428.3544825\n",
      "876  Skovfoged M.M., Rasmussen A.S., Kirsh D., Knoc...  the cost of knowing: how obstacle alerts reduc...                 10.1145/3546727\n",
      "[212, 148, 128, 89, 42, 31, 27, 24, 15, 14, 12, 11, 10, 10, 8, 8, 7, 5, 4, 3, 3, 3, 2, 2, 2, 2, 1, 1, 1, 1, 1, 1, 1, 1, 1, 1, 1]\n",
      "[['BLV (IFL)'], ['Blind (IFL)'], ['BLV (PFL)'], ['Blind (IFL)', 'BLV (IFL)'], ['BLV (PFL)', 'BLV (IFL)'], ['BLV multi. (IFL)'], ['Blind (IFL)', 'BLV multi. (IFL)'], ['BLV (PFL)', 'Blind (IFL)'], ['Blind (PFL)', 'Blind (IFL)'], ['Blind (PFL)', 'BLV (PFL)'], ['Low-vision (PFL)'], ['BLV multi. (IFL)', 'BLV (IFL)'], ['Blind (IFL)', 'BLV multi. (IFL)', 'BLV (IFL)'], ['Blind (PFL)'], ['Low-vision (PFL)', 'Low-vision (IFL)'], ['BLV (PFL)', 'Blind (IFL)', 'BLV (IFL)'], ['BLV (PFL)', 'BLV multi. (IFL)'], ['Blind (PFL)', 'BLV (PFL)', 'Blind (IFL)'], ['Blind (PFL)', 'BLV multi. (IFL)'], ['Blind (PFL)', 'BLV (IFL)'], ['Low-vision (PFL)', 'BLV (IFL)'], ['Low-vision (IFL)', 'BLV (IFL)'], ['Low-vision (IFL)', 'Blind (IFL)'], ['BLV (PFL)', 'BLV multi. (IFL)', 'Blind (IFL)'], ['Low-vision (PFL)', 'Low-vision (IFL)', 'Blind (IFL)'], ['Blind (PFL)', 'Blind (IFL)', 'BLV (IFL)'], ['Low-vision (IFL)', 'BLV (PFL)'], ['Low-vision (IFL)', 'BLV (PFL)', 'Blind (IFL)', 'BLV (IFL)'], ['Blind (PFL)', 'BLV (PFL)', 'Low-vision (PFL)'], ['Low-vision (IFL)', 'Blind (IFL)', 'BLV (IFL)'], ['Low-vision (IFL)', 'BLV multi. (IFL)'], ['Low-vision (IFL)'], ['Low-vision (PFL)', 'BLV (PFL)'], ['Low-vision (PFL)', 'Blind (IFL)'], ['Low-vision (PFL)', 'Blind (PFL)'], ['Low-vision (PFL)', 'Low-vision (IFL)', 'BLV (PFL)', 'Blind (IFL)'], ['Blind (PFL)', 'BLV (PFL)', 'BLV multi. (IFL)']]\n",
      "        categories_group\n",
      "0                BLV_IFL\n",
      "1                BLV_IFL\n",
      "2          B_IFLxBLV_IFL\n",
      "3                BLV_IFL\n",
      "4          BLV_MULTI_IFL\n",
      "..                   ...\n",
      "828              BLV_IFL\n",
      "829                B_IFL\n",
      "830              BLV_IFL\n",
      "831        BLV_MULTI_IFL\n",
      "832  B_PFLxBLV_MULTI_IFL\n",
      "\n",
      "[833 rows x 1 columns]\n",
      "                                                Group  count\n",
      "0                               Blind (IFL)xBLV (IFL)     89\n",
      "1                                 BLV (PFL)xBLV (IFL)     42\n",
      "2                        Blind (IFL)xBLV multi. (IFL)     27\n",
      "3                               BLV (PFL)xBlind (IFL)     24\n",
      "4                             Blind (PFL)xBlind (IFL)     15\n",
      "5                               Blind (PFL)xBLV (PFL)     14\n",
      "6                          BLV multi. (IFL)xBLV (IFL)     11\n",
      "7              Blind (IFL)xBLV multi. (IFL)xBLV (IFL)     10\n",
      "8                   Low-vision (PFL)xLow-vision (IFL)      8\n",
      "9                     BLV (PFL)xBlind (IFL)xBLV (IFL)      8\n",
      "10                         BLV (PFL)xBLV multi. (IFL)      7\n",
      "11                  Blind (PFL)xBLV (PFL)xBlind (IFL)      5\n",
      "12                       Blind (PFL)xBLV multi. (IFL)      4\n",
      "13                              Blind (PFL)xBLV (IFL)      3\n",
      "14                         Low-vision (PFL)xBLV (IFL)      3\n",
      "15                         Low-vision (IFL)xBLV (IFL)      3\n",
      "16                       Low-vision (IFL)xBlind (IFL)      2\n",
      "17             BLV (PFL)xBLV multi. (IFL)xBlind (IFL)      2\n",
      "18      Low-vision (PFL)xLow-vision (IFL)xBlind (IFL)      2\n",
      "19                  Blind (PFL)xBlind (IFL)xBLV (IFL)      2\n",
      "20                         Low-vision (IFL)xBLV (PFL)      1\n",
      "21   Low-vision (IFL)xBLV (PFL)xBlind (IFL)xBLV (IFL)      1\n",
      "22             Blind (PFL)xBLV (PFL)xLow-vision (PFL)      1\n",
      "23             Low-vision (IFL)xBlind (IFL)xBLV (IFL)      1\n",
      "24                  Low-vision (IFL)xBLV multi. (IFL)      1\n",
      "25                         Low-vision (PFL)xBLV (PFL)      1\n",
      "26                       Low-vision (PFL)xBlind (IFL)      1\n",
      "27                       Low-vision (PFL)xBlind (PFL)      1\n",
      "28  Low-vision (PFL)xLow-vision (IFL)xBLV (PFL)xBl...      1\n",
      "29             Blind (PFL)xBLV (PFL)xBLV multi. (IFL)      1\n",
      "Sum:\n",
      "291\n"
     ]
    },
    {
     "data": {
      "image/png": "[encoded data removed]",
      "text/plain": [
       "<Figure size 1145.83x590.278 with 4 Axes>"
      ]
     },
     "metadata": {},
     "output_type": "display_data"
    }
   ],
   "source": [
    "import os\n",
    "from dataset_analysis.analyzer_utils import regexp_counter_analysis\n",
    "from dataset_analysis.filtering.dataset_filter_processor import DatasetFilterProcessor\n",
    "\n",
    "ROOT_PATH = os.getcwd()\n",
    "\n",
    "# Input paths (must exists)\n",
    "PRIV_DATASET_PATH = os.path.join(ROOT_PATH, 'data/private/dataset_N880.xlsx')\n",
    "# Output paths\n",
    "OUT_MENTION_BLV_CROSSTAB = os.path.join(ROOT_PATH, 'data/private/analysis/community_of_focus/mentionBLV_crosstab.xlsx')\n",
    "OUT_NO_MENTION_BLV = os.path.join(ROOT_PATH, 'data/private/analysis/community_of_focus/no-mentionBLV.xlsx')\n",
    "EXCLUDED_DOI_FILEPATH = os.path.join(ROOT_PATH, 'data/private/analysis/community_of_focus/excluded-doi.xlsx')\n",
    "FIG_FOLDER_PATH = os.path.join(ROOT_PATH, 'data/private/analysis/community_of_focus/')\n",
    "FIG_NAME = 'BLV_terms_TAK'\n",
    "\n",
    "# Important to respect a matching order with a OR condition\n",
    "#  Because order matters, englobing expressions must be placed first.\n",
    "REGEXP_POPULATION_SEARCH_TERMS = [\n",
    "    ('BLV_MULTI_IFL',  r'((?:\\S*? )?(?:blind (?:and|or) (?:vis\\w*|low|partial\\w*)[ |-](?:\\w*))(?: (?:child(?:ren)?|(?:software )?developers?|designers?|individuals?|learners?|participants?|pedestrians?|people|persons?|population|programmer?|pupils?|students?|subjects?|users?)|(?:[,|.|?])))'),\n",
    "    ('BLV_IFL',  r'(?:((?:the vis\\w*[ |-]impaired[,|.|?])|(?:(?:vis\\w*[ |-](?:impaired|challenged|disabled)) (?:child(?:ren)?|(?:software )?developers?|designers?|individuals?|learners?|participants?|pedestrians?|people|persons?|population|programmer?|pupils?|students?|subjects?|users?))))'),\n",
    "    ('BLV_PFL',  r'((?:child(?:ren)?|(?:software )?developers?|designers?|individuals?|learners?|participants?|pedestrians?|people|persons?|population|programmer?|pupils?|students?|subjects?|those|users?) (?:(?:with|who\\sare|who\\shave) (?:vis[a-z-]* impair[a-z-]*|vis[a-z-]* disabilit[a-z-]*|vision loss|mixed visual abilit[a-z-]*)))'),\n",
    "    ('B_IFL',   r'(?:((?:blind) ?(?:child(?:ren)?|(?:software )?developers?|designers?|individuals?|learners?|participants?|pedestrians?|people|persons?|population|programmer?|pupils?|students?|subjects?|users?))|(the blind(?:[,|.|?]) ?(?:\\w* \\w*)?))'),\n",
    "    ('B_PFL',   r'(?:(?:child(?:ren)?|(?:software )?developers?|designers?|individuals?|learners?|participants?|pedestrians?|people|persons?|population|programmer?|pupils?|students?|subjects?|those|users?)(?:(?:[\\s]with[\\s]blindness)|(?:[\\s]who are blind)))'),\n",
    "    ('LV_IFL',  r'((?:\\S*? )?(?:low[\\s|-]vision|partially sighted) (?:child(?:ren)?|(?:software )?developers?|designers?|individuals?|learners?|participants?|pedestrians?|people|persons?|population|programmer?|pupils?|students?|subjects?|users?))'),\n",
    "    ('LV_PFL',  r'((?:child(?:ren)?|(?:software )?developers?|designers?|individuals?|learners?|participants?|pedestrians?|people|persons?|population|programmer?|pupils?|students?|subjects?|those|users?) (?:(?:with|who have)(?:[\\s]low[\\s|-]vision)))'),\n",
    "]\n",
    "\n",
    "# Mapping table to rename groups that have naming limitations\n",
    "RENAME_POPULATION_DICT = {\n",
    "    'BLV_MULTI_IFL': 'BLV multi. (IFL)',\n",
    "    'BLV_IFL': 'BLV (IFL)',\n",
    "    'BLV_PFL': 'BLV (PFL)',\n",
    "    'B_IFL': 'Blind (IFL)',\n",
    "    'B_PFL': 'Blind (PFL)',\n",
    "    'LV_IFL': 'Low-vision (IFL)',\n",
    "    'LV_PFL': 'Low-vision (PFL)',\n",
    "}\n",
    "\n",
    "SEARCH_IN = 'TAK'\n",
    "\n",
    "# No filtering\n",
    "filter = DatasetFilterProcessor(scopus_dataset=PRIV_DATASET_PATH, predefined_filters=[])\n",
    "filter.process()\n",
    "print(filter.summary())\n",
    "\n",
    "regexp_counter_analysis(df=filter.get_df(),\n",
    "                        keywords_search_spec=REGEXP_POPULATION_SEARCH_TERMS,\n",
    "                        search_in=SEARCH_IN,\n",
    "                        out_filepath=OUT_MENTION_BLV_CROSSTAB,\n",
    "                        excluded_out_filepath=OUT_NO_MENTION_BLV,\n",
    "                        figname=FIG_NAME,\n",
    "                        fig_folder_path=FIG_FOLDER_PATH,\n",
    "                        rename_dict=RENAME_POPULATION_DICT)"
   ]
  },
  {
   "attachments": {},
   "cell_type": "markdown",
   "metadata": {},
   "source": [
    "## Technological Trends"
   ]
  },
  {
   "cell_type": "markdown",
   "metadata": {},
   "source": [
    "### Public"
   ]
  },
  {
   "cell_type": "code",
   "execution_count": 22,
   "metadata": {},
   "outputs": [
    {
     "name": "stdout",
     "output_type": "stream",
     "text": [
      "Year                                 2010      2011      2012      2013  2014      2015      2016      2017      2018      2019      2020      2021      2022\n",
      "keyword                                                                                                                                                      \n",
      "Artificial_Intelligence          0.017544  0.000000  0.000000  0.030769  0.04  0.000000  0.049180  0.093333  0.082353  0.185185  0.163636  0.176471  0.151899\n",
      "Augmented_Virtual_Mixed_Reality  0.017544  0.039216  0.041667  0.030769  0.00  0.090909  0.032787  0.053333  0.047059  0.061728  0.100000  0.070588  0.101266\n",
      "Computer_Vision                  0.070175  0.156863  0.125000  0.184615  0.08  0.151515  0.147541  0.186667  0.141176  0.185185  0.145455  0.200000  0.215190\n",
      "Mobile                           0.263158  0.294118  0.375000  0.323077  0.24  0.242424  0.524590  0.240000  0.223529  0.197531  0.218182  0.200000  0.151899\n",
      "Navigation_Assistance            0.175439  0.039216  0.208333  0.107692  0.18  0.090909  0.131148  0.066667  0.047059  0.037037  0.045455  0.070588  0.075949\n",
      "Wearable                         0.035088  0.039216  0.083333  0.123077  0.20  0.121212  0.163934  0.173333  0.176471  0.111111  0.127273  0.129412  0.126582\n",
      "Web                              0.070175  0.156863  0.083333  0.061538  0.06  0.030303  0.065574  0.080000  0.082353  0.086420  0.054545  0.070588  0.101266\n"
     ]
    }
   ],
   "source": [
    "import os\n",
    "import pandas as pd\n",
    "from dataset_analysis.analyzer_utils import temporal_analyzer_from_crosstab\n",
    "\n",
    "pd.set_option('display.max_rows', 100)\n",
    "pd.set_option('display.max_columns', 50)\n",
    "pd.set_option('display.width', 500)\n",
    "\n",
    "ROOT_PATH = os.getcwd()\n",
    "\n",
    "PUB_DOI_YEAR_PATH = os.path.join(ROOT_PATH, 'data/results/analysis/technological_trends/doi_year.xlsx')\n",
    "PUB_OCCURRENCES_PATH = os.path.join(ROOT_PATH, 'data/results/analysis/technological_trends/mentionTECH_crosstab_complete.xlsx')\n",
    "FIG_FOLDER_PATH = os.path.join(ROOT_PATH, 'data/results/analysis/technological_trends/')\n",
    "FIG_NAME = 'technology-year-norm-linedplots'\n",
    "\n",
    "# From-to relation\n",
    "RENAME_TECH_DICT = {\n",
    "    'Artificial_Intelligence': 'Artificial Intelligence',\n",
    "    'Computer_Vision': 'Computer Vision',\n",
    "    'Mobile': 'Mobile',\n",
    "    'Augmented_Virtual_Mixed_Reality': 'Augmented/Virtual/Mixed Reality',\n",
    "    'Navigation_Assistance': 'Navigation Assistance',\n",
    "    'Wearable': 'Wearable',\n",
    "    'Web': 'Web'\n",
    "}\n",
    "\n",
    "doi_year_df = pd.read_excel(PUB_DOI_YEAR_PATH)\n",
    "keyword_occurences_df = pd.read_excel(PUB_OCCURRENCES_PATH)\n",
    "temporal_analyzer_from_crosstab(doi_year_df=doi_year_df,\n",
    "                                keyword_occurrence_df=keyword_occurences_df,\n",
    "                                figname_no_ext=FIG_NAME,\n",
    "                                fig_folder_path=FIG_FOLDER_PATH,\n",
    "                                rename_dict=RENAME_TECH_DICT,\n",
    "                                plot_width=600,\n",
    "                                plot_height=1200)"
   ]
  },
  {
   "cell_type": "markdown",
   "metadata": {},
   "source": [
    "### Private"
   ]
  },
  {
   "cell_type": "code",
   "execution_count": 23,
   "metadata": {},
   "outputs": [
    {
     "name": "stdout",
     "output_type": "stream",
     "text": [
      "                  operation       type  nb rows\n",
      "0              Load dataset        N/A      880\n",
      "1       Remove N/A abstract  automatic        0\n",
      "2     Remove N/A references  automatic        0\n",
      "3  Remove N/A document type  automatic        0\n",
      "4            Export dataset        N/A      880\n",
      "Patterns: (?P<Artificial_Intelligence>(?:(?:\\w* ?){0,3}(?:artificial intelligence|machine learning|deep learning|convolutional neural network) ?(?:\\w* ?){1,3}))|(?P<Computer_Vision>(?:(?:\\w* ?){0,3}(?:computer vision|object detection|object recognition) ?(?:\\w* ?){1,3}))|(?P<Mobile>(?:(?:\\w* ?){0,3}(?:mobile|smartphone) ?(?:\\w* ?){1,3}))|(?P<Augmented_Virtual_Mixed_Reality>(?:(?:\\w* ?){0,3}(?:augmented reality|virtual reality|mixed reality) ?(?:\\w* ?){1,3}))|(?P<Navigation_Assistance>(?:(?:\\w* ?){0,3}(?:navigation system|electronic travel aid) ?(?:\\w* ?){1,3}))|(?P<Wearable>(?:(?:\\w* ?){0,3}(?:wearable|smartwatch) ?(?:\\w* ?){1,3}))|(?P<Web>(?:(?:\\w* ?){0,3}(?:web|browser) ?(?:\\w* ?){1,3}))\n",
      "keyword                          DOI  Artificial_Intelligence  Augmented_Virtual_Mixed_Reality  Computer_Vision  Mobile  Navigation_Assistance  Wearable  Web  Totals\n",
      "0        10.1109/ACCESS.2018.2817164                        0                                0                2       0                      0         1    0       3\n",
      "1        10.1109/ACCESS.2018.2870334                        2                                0                1       1                      0         0    0       4\n",
      "2        10.1109/ACCESS.2018.2886308                        0                                0                0       0                      1         0    0       1\n",
      "3        10.1109/ACCESS.2019.2936143                        0                                0                0       0                      0         1    0       1\n",
      "4        10.1109/ACCESS.2019.2939068                        0                                0                0       0                      0         0   13      13\n",
      "..                               ...                      ...                              ...              ...     ...                    ...       ...  ...     ...\n",
      "519                  10.1145/3546714                        0                                0                0       3                      0         0    0       3\n",
      "520                  10.1145/3546727                        0                                0                0       0                      1         0    0       1\n",
      "521          10.1145/3547522.3547685                        0                                0                0       0                      1         0    0       1\n",
      "522                  10.1145/3550282                        0                                0                0       0                      0         3    0       3\n",
      "523      10.23919/CISTI.2018.8399347                        0                                0                0       0                      1         0    0       1\n",
      "\n",
      "[524 rows x 9 columns]\n",
      "356\n",
      "                                               Authors                                                TAK                          DOI\n",
      "0        Jafri R., Campos R.L., Ali S.A., Arabnia H.R.  visual and infrared sensor data-based obstacle...  10.1109/ACCESS.2017.2766579\n",
      "2       Ponnada S., Srinivas Y., Madhusudhana Rao T.V.  a hybrid approach for identification of manhol...  10.1109/ACCESS.2018.2852723\n",
      "14   Lodi M.B., Curreli N., Fanti A., Cuccu C., Pan...  a periodic transmission line model for body ch...  10.1109/ACCESS.2020.3019968\n",
      "28                                 Hudec M., Smutny Z.  ambient intelligence system enabling people wi...  10.1109/ACCESS.2022.3144109\n",
      "40        Innala Ahlmark D., Fredriksson H., Hyyppä K.  obstacle avoidance using haptics and a laser r...    10.1109/ARSO.2013.6705509\n",
      "..                                                 ...                                                ...                          ...\n",
      "866             Chintalapati S.S., Bragg J., Wang L.L.  a dataset of alt texts from hci publications a...      10.1145/3517428.3544796\n",
      "868  Payne W.C., Ahmed F., Zachor M., Gardell M., H...  empowering blind musicians to compose and nota...      10.1145/3517428.3544825\n",
      "869                Huff E.W., Brewer R.N., Brinkley J.  where are you taking me reflections from obser...      10.1145/3517428.3551355\n",
      "871           Nishida J., Tanaka Y., Nith R., Lopes P.  digitusync: a dual-user passive exoskeleton gl...      10.1145/3526113.3545630\n",
      "873                               Zand M., Kyrarini M.  sensing visual art by relatable music and hapt...      10.1145/3529190.3534785\n",
      "\n",
      "[356 rows x 3 columns]\n",
      "Year                                 2010      2011      2012      2013  2014      2015      2016      2017      2018      2019      2020      2021      2022\n",
      "keyword                                                                                                                                                      \n",
      "Artificial_Intelligence          0.017544  0.000000  0.000000  0.030769  0.04  0.000000  0.049180  0.093333  0.082353  0.185185  0.163636  0.176471  0.151899\n",
      "Augmented_Virtual_Mixed_Reality  0.017544  0.039216  0.041667  0.030769  0.00  0.090909  0.032787  0.053333  0.047059  0.061728  0.100000  0.070588  0.101266\n",
      "Computer_Vision                  0.070175  0.156863  0.125000  0.184615  0.08  0.151515  0.147541  0.186667  0.141176  0.185185  0.145455  0.200000  0.215190\n",
      "Mobile                           0.263158  0.294118  0.375000  0.323077  0.24  0.242424  0.524590  0.240000  0.223529  0.197531  0.218182  0.200000  0.151899\n",
      "Navigation_Assistance            0.175439  0.039216  0.208333  0.107692  0.18  0.090909  0.131148  0.066667  0.047059  0.037037  0.045455  0.070588  0.075949\n",
      "Wearable                         0.035088  0.039216  0.083333  0.123077  0.20  0.121212  0.163934  0.173333  0.176471  0.111111  0.127273  0.129412  0.126582\n",
      "Web                              0.070175  0.156863  0.083333  0.061538  0.06  0.030303  0.065574  0.080000  0.082353  0.086420  0.054545  0.070588  0.101266\n"
     ]
    }
   ],
   "source": [
    "import os\n",
    "from dataset_analysis.analyzer_utils import temporal_analyzer\n",
    "from dataset_analysis.filtering.dataset_filter_processor import DatasetFilterProcessor\n",
    "\n",
    "pd.set_option('display.max_rows', 100)\n",
    "pd.set_option('display.max_columns', 50)\n",
    "pd.set_option('display.width', 500)\n",
    "\n",
    "ROOT_PATH = os.getcwd()\n",
    "\n",
    "# Input paths (must exist)\n",
    "PRIV_DATASET_PATH = os.path.join(ROOT_PATH, 'data/private/dataset_N880.xlsx')\n",
    "# Output\n",
    "OUT_MENTION_TECH_CROSSTAB = os.path.join(ROOT_PATH, 'data/private/analysis/technological_trends/mentionTECH_crosstab.xlsx')\n",
    "OUT_NO_MENTION_TECH = os.path.join(ROOT_PATH, 'data/private/analysis/technological_trends/no-mentionTECH.xlsx')\n",
    "EXCLUDED_DOI_FILEPATH = os.path.join(ROOT_PATH, 'data/private/analysis/technological_trends/excluded-doi.xlsx')\n",
    "FIG_FOLDER_PATH = os.path.join(ROOT_PATH, 'data/private/analysis/technological_trends/')\n",
    "FIG_NAME = 'technology-year-norm-linedplots'\n",
    "\n",
    "# Important to respect a matching order with a OR condition\n",
    "REGEXP_COMPUTER_TERMS = [\n",
    "    ('Artificial_Intelligence',  r'(?:(?:\\w* ?){0,3}(?:artificial intelligence|machine learning|deep learning|convolutional neural network) ?(?:\\w* ?){1,3})'),\n",
    "    ('Computer_Vision',  r'(?:(?:\\w* ?){0,3}(?:computer vision|object detection|object recognition) ?(?:\\w* ?){1,3})'),\n",
    "    ('Mobile',  r'(?:(?:\\w* ?){0,3}(?:mobile|smartphone) ?(?:\\w* ?){1,3})'),\n",
    "    ('Augmented_Virtual_Mixed_Reality',  r'(?:(?:\\w* ?){0,3}(?:augmented reality|virtual reality|mixed reality) ?(?:\\w* ?){1,3})'),\n",
    "    ('Navigation_Assistance',  r'(?:(?:\\w* ?){0,3}(?:navigation system|electronic travel aid) ?(?:\\w* ?){1,3})'),\n",
    "    ('Wearable',  r'(?:(?:\\w* ?){0,3}(?:wearable|smartwatch) ?(?:\\w* ?){1,3})'),\n",
    "    ('Web',  r'(?:(?:\\w* ?){0,3}(?:web|browser) ?(?:\\w* ?){1,3})')\n",
    "]\n",
    "\n",
    "# From-to relation\n",
    "RENAME_TECH_DICT = {\n",
    "    'Artificial_Intelligence': 'Artificial Intelligence',\n",
    "    'Computer_Vision': 'Computer Vision',\n",
    "    'Mobile': 'Mobile',\n",
    "    'Augmented_Virtual_Mixed_Reality': 'Augmented/Virtual/Mixed Reality',\n",
    "    'Navigation_Assistance': 'Navigation Assistance',\n",
    "    'Wearable': 'Wearable',\n",
    "    'Web': 'Web',\n",
    "}\n",
    "\n",
    "SEARCH_IN = 'TAK'\n",
    "\n",
    "# No filtering made on this dataset\n",
    "filter = DatasetFilterProcessor(scopus_dataset=PRIV_DATASET_PATH, predefined_filters=[])\n",
    "filter.process()\n",
    "print(filter.summary())\n",
    "\n",
    "temporal_analyzer(df=filter.get_df(),\n",
    "                  keywords_search_spec=REGEXP_COMPUTER_TERMS,\n",
    "                  search_in=SEARCH_IN,\n",
    "                  out_filepath=OUT_MENTION_TECH_CROSSTAB,\n",
    "                  excluded_out_filepath=OUT_NO_MENTION_TECH,\n",
    "                  fig_folder_path=FIG_FOLDER_PATH,\n",
    "                  figname_no_ext=FIG_NAME,\n",
    "                  rename_dict=RENAME_TECH_DICT,\n",
    "                  plot_width=600,\n",
    "                  plot_height=1200)"
   ]
  }
 ],
 "metadata": {
  "colab": {
   "provenance": []
  },
  "kernelspec": {
   "display_name": "Python 3 (ipykernel)",
   "language": "python",
   "name": "python3"
  },
  "language_info": {
   "codemirror_mode": {
    "name": "ipython",
    "version": 3
   },
   "file_extension": ".py",
   "mimetype": "text/x-python",
   "name": "python",
   "nbconvert_exporter": "python",
   "pygments_lexer": "ipython3",
   "version": "3.11.3"
  }
 },
 "nbformat": 4,
 "nbformat_minor": 4
}
